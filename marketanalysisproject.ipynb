{
 "cells": [
  {
   "cell_type": "code",
   "execution_count": 103,
   "id": "cbc7a636",
   "metadata": {},
   "outputs": [],
   "source": [
    "from pyspark.sql import SparkSession\n",
    "\n",
    "spark = SparkSession.builder \\\n",
    "    .appName(\"PySpark Notebook\") \\\n",
    "    .getOrCreate()\n"
   ]
  },
  {
   "cell_type": "code",
   "execution_count": 104,
   "id": "4f58b592",
   "metadata": {},
   "outputs": [],
   "source": [
    "data = spark.read.option(\"header\",True).csv(\"D:\\JAVA\\MarketingAnalysisProject2\\Inputfile\\InputFile.csv\")\n"
   ]
  },
  {
   "cell_type": "code",
   "execution_count": 105,
   "id": "e6d68227",
   "metadata": {},
   "outputs": [
    {
     "name": "stdout",
     "output_type": "stream",
     "text": [
      "+---+------------+--------+---------+-------+-------+-------+----+-------+---+-----+--------+--------+-----+--------+--------+---+\n",
      "|age|         job| marital|education|default|balance|housing|loan|contact|day|month|duration|campaign|pdays|previous|poutcome|  y|\n",
      "+---+------------+--------+---------+-------+-------+-------+----+-------+---+-----+--------+--------+-----+--------+--------+---+\n",
      "| 58|  management| married| tertiary|     no|   2143|    yes|  no|unknown|  5|  may|     261|       1|   -1|       0| unknown| no|\n",
      "| 44|  technician|  single|secondary|     no|     29|    yes|  no|unknown|  5|  may|     151|       1|   -1|       0| unknown| no|\n",
      "| 33|entrepreneur| married|secondary|     no|      2|    yes| yes|unknown|  5|  may|      76|       1|   -1|       0| unknown| no|\n",
      "| 47| blue-collar| married|  unknown|     no|   1506|    yes|  no|unknown|  5|  may|      92|       1|   -1|       0| unknown| no|\n",
      "| 33|     unknown|  single|  unknown|     no|      1|     no|  no|unknown|  5|  may|     198|       1|   -1|       0| unknown| no|\n",
      "| 35|  management| married| tertiary|     no|    231|    yes|  no|unknown|  5|  may|     139|       1|   -1|       0| unknown| no|\n",
      "| 28|  management|  single| tertiary|     no|    447|    yes| yes|unknown|  5|  may|     217|       1|   -1|       0| unknown| no|\n",
      "| 42|entrepreneur|divorced| tertiary|    yes|      2|    yes|  no|unknown|  5|  may|     380|       1|   -1|       0| unknown| no|\n",
      "| 58|     retired| married|  primary|     no|    121|    yes|  no|unknown|  5|  may|      50|       1|   -1|       0| unknown| no|\n",
      "| 43|  technician|  single|secondary|     no|    593|    yes|  no|unknown|  5|  may|      55|       1|   -1|       0| unknown| no|\n",
      "| 41|      admin.|divorced|secondary|     no|    270|    yes|  no|unknown|  5|  may|     222|       1|   -1|       0| unknown| no|\n",
      "| 29|      admin.|  single|secondary|     no|    390|    yes|  no|unknown|  5|  may|     137|       1|   -1|       0| unknown| no|\n",
      "| 53|  technician| married|secondary|     no|      6|    yes|  no|unknown|  5|  may|     517|       1|   -1|       0| unknown| no|\n",
      "| 58|  technician| married|  unknown|     no|     71|    yes|  no|unknown|  5|  may|      71|       1|   -1|       0| unknown| no|\n",
      "| 57|    services| married|secondary|     no|    162|    yes|  no|unknown|  5|  may|     174|       1|   -1|       0| unknown| no|\n",
      "| 51|     retired| married|  primary|     no|    229|    yes|  no|unknown|  5|  may|     353|       1|   -1|       0| unknown| no|\n",
      "| 45|      admin.|  single|  unknown|     no|     13|    yes|  no|unknown|  5|  may|      98|       1|   -1|       0| unknown| no|\n",
      "| 57| blue-collar| married|  primary|     no|     52|    yes|  no|unknown|  5|  may|      38|       1|   -1|       0| unknown| no|\n",
      "| 60|     retired| married|  primary|     no|     60|    yes|  no|unknown|  5|  may|     219|       1|   -1|       0| unknown| no|\n",
      "| 33|    services| married|secondary|     no|      0|    yes|  no|unknown|  5|  may|      54|       1|   -1|       0| unknown| no|\n",
      "+---+------------+--------+---------+-------+-------+-------+----+-------+---+-----+--------+--------+-----+--------+--------+---+\n",
      "only showing top 20 rows\n",
      "\n"
     ]
    }
   ],
   "source": [
    "data.show()"
   ]
  },
  {
   "cell_type": "code",
   "execution_count": 106,
   "id": "a5ff1234",
   "metadata": {},
   "outputs": [],
   "source": [
    "    data.createOrReplaceTempView(\"mytable\")\n",
    "    "
   ]
  },
  {
   "cell_type": "code",
   "execution_count": 107,
   "id": "e76b1876",
   "metadata": {},
   "outputs": [],
   "source": [
    "successDF = spark.sql(\"SELECT count(*) AS successCount FROM mytable WHERE poutcome = 'success'\")"
   ]
  },
  {
   "cell_type": "code",
   "execution_count": 108,
   "id": "9d6243f9",
   "metadata": {},
   "outputs": [],
   "source": [
    "failureDF = spark.sql(\"SELECT count(*) AS successCount FROM mytable WHERE poutcome = 'failure'\")"
   ]
  },
  {
   "cell_type": "code",
   "execution_count": 109,
   "id": "64de5ed6",
   "metadata": {},
   "outputs": [
    {
     "name": "stdout",
     "output_type": "stream",
     "text": [
      "+------------+\n",
      "|successCount|\n",
      "+------------+\n",
      "|        1511|\n",
      "+------------+\n",
      "\n"
     ]
    }
   ],
   "source": [
    "successDF.show()"
   ]
  },
  {
   "cell_type": "code",
   "execution_count": 110,
   "id": "eee970b8",
   "metadata": {},
   "outputs": [],
   "source": [
    "numDF = spark.sql(\"SELECT count(*) AS totalCount FROM mytable\")"
   ]
  },
  {
   "cell_type": "code",
   "execution_count": 111,
   "id": "41f13968",
   "metadata": {},
   "outputs": [
    {
     "name": "stdout",
     "output_type": "stream",
     "text": [
      "+----------+\n",
      "|totalCount|\n",
      "+----------+\n",
      "|     45211|\n",
      "+----------+\n",
      "\n"
     ]
    }
   ],
   "source": [
    "numDF.show()"
   ]
  },
  {
   "cell_type": "code",
   "execution_count": 112,
   "id": "7c936987",
   "metadata": {},
   "outputs": [],
   "source": [
    "row1 = numDF.collect()[0]"
   ]
  },
  {
   "cell_type": "code",
   "execution_count": 113,
   "id": "458946e3",
   "metadata": {},
   "outputs": [],
   "source": [
    "value1 = row1[\"totalCount\"]"
   ]
  },
  {
   "cell_type": "code",
   "execution_count": 114,
   "id": "91b5f1ea",
   "metadata": {},
   "outputs": [],
   "source": [
    "rows = successDF.collect()\n",
    "first_row = rows[0]\n"
   ]
  },
  {
   "cell_type": "code",
   "execution_count": 115,
   "id": "2e40fea2",
   "metadata": {},
   "outputs": [],
   "source": [
    "value = first_row[\"successCount\"]"
   ]
  },
  {
   "cell_type": "code",
   "execution_count": 116,
   "id": "631882ad",
   "metadata": {},
   "outputs": [],
   "source": [
    "row2 = failureDF.collect()[0]"
   ]
  },
  {
   "cell_type": "code",
   "execution_count": 117,
   "id": "d3bd6024",
   "metadata": {},
   "outputs": [],
   "source": [
    "value2 = first_row = rows[0][0]"
   ]
  },
  {
   "cell_type": "code",
   "execution_count": 118,
   "id": "cfc12f9b",
   "metadata": {},
   "outputs": [
    {
     "name": "stdout",
     "output_type": "stream",
     "text": [
      "[Row(successCount=1511)]\n"
     ]
    }
   ],
   "source": [
    "print(successCount)"
   ]
  },
  {
   "cell_type": "code",
   "execution_count": 119,
   "id": "5cad3dcd",
   "metadata": {},
   "outputs": [],
   "source": [
    "totalCount = numDF.first()"
   ]
  },
  {
   "cell_type": "code",
   "execution_count": 120,
   "id": "9db23376",
   "metadata": {},
   "outputs": [
    {
     "name": "stdout",
     "output_type": "stream",
     "text": [
      "Row(totalCount=45211)\n"
     ]
    }
   ],
   "source": [
    "print(totalCount)"
   ]
  },
  {
   "cell_type": "code",
   "execution_count": 121,
   "id": "1f388eef",
   "metadata": {},
   "outputs": [],
   "source": [
    "MarketingSuccessRate = value/value1"
   ]
  },
  {
   "cell_type": "code",
   "execution_count": 122,
   "id": "e1a0a4d6",
   "metadata": {},
   "outputs": [
    {
     "name": "stdout",
     "output_type": "stream",
     "text": [
      "0.0334210700935613\n"
     ]
    }
   ],
   "source": [
    "print(MarketingSuccessRate)"
   ]
  },
  {
   "cell_type": "code",
   "execution_count": 123,
   "id": "751b7fab",
   "metadata": {},
   "outputs": [],
   "source": [
    "marketingFailureRate = value2/ value1"
   ]
  },
  {
   "cell_type": "code",
   "execution_count": 124,
   "id": "94d146ed",
   "metadata": {},
   "outputs": [
    {
     "name": "stdout",
     "output_type": "stream",
     "text": [
      "0.0334210700935613\n"
     ]
    }
   ],
   "source": [
    "print(marketingFailureRate)"
   ]
  },
  {
   "cell_type": "code",
   "execution_count": 125,
   "id": "7d1eb14b",
   "metadata": {},
   "outputs": [
    {
     "name": "stdout",
     "output_type": "stream",
     "text": [
      "avg:  40.93621021432837\n",
      "min:  18\n",
      "max:  95\n"
     ]
    }
   ],
   "source": [
    "from pyspark.sql.functions import avg, min, max\n",
    "\n",
    "\n",
    "avg_age = data.select(avg(\"age\")).collect()[0][0]\n",
    "min_age = data.select(min(\"age\")).collect()[0][0]\n",
    "max_age = data.select(max(\"age\")).collect()[0][0]\n",
    "\n",
    "\n",
    "print(\"avg: \", avg_age)\n",
    "print(\"min: \", min_age)\n",
    "print(\"max: \", max_age)"
   ]
  },
  {
   "cell_type": "code",
   "execution_count": 126,
   "id": "69323822",
   "metadata": {},
   "outputs": [
    {
     "name": "stdout",
     "output_type": "stream",
     "text": [
      "+---+------+\n",
      "|age|number|\n",
      "+---+------+\n",
      "| 32|   221|\n",
      "| 30|   217|\n",
      "| 33|   210|\n",
      "| 35|   209|\n",
      "| 31|   206|\n",
      "| 34|   198|\n",
      "| 36|   195|\n",
      "| 29|   171|\n",
      "| 37|   170|\n",
      "| 28|   162|\n",
      "| 38|   144|\n",
      "| 39|   143|\n",
      "| 27|   141|\n",
      "| 26|   134|\n",
      "| 41|   120|\n",
      "| 46|   118|\n",
      "| 40|   116|\n",
      "| 47|   113|\n",
      "| 25|   113|\n",
      "| 42|   111|\n",
      "+---+------+\n",
      "only showing top 20 rows\n",
      "\n"
     ]
    }
   ],
   "source": [
    " age  = spark.sql(\"select age , count(*) as number from mytable where y = 'yes' group by age order by number desc\").show()\n",
    "\n"
   ]
  },
  {
   "cell_type": "code",
   "execution_count": 127,
   "id": "d5e3c6c5",
   "metadata": {},
   "outputs": [
    {
     "name": "stdout",
     "output_type": "stream",
     "text": [
      "+--------+------+\n",
      "| marital|number|\n",
      "+--------+------+\n",
      "| married|  2755|\n",
      "|  single|  1912|\n",
      "|divorced|   622|\n",
      "+--------+------+\n",
      "\n"
     ]
    }
   ],
   "source": [
    "marital = spark.sql(\"select marital, count(*) as number from mytable where y='yes' group by marital order by number desc \").show()\n"
   ]
  },
  {
   "cell_type": "code",
   "execution_count": 128,
   "id": "ef32ac73",
   "metadata": {},
   "outputs": [
    {
     "name": "stdout",
     "output_type": "stream",
     "text": [
      "+---+-------+------+\n",
      "|age|marital|number|\n",
      "+---+-------+------+\n",
      "| 30| single|   151|\n",
      "| 28| single|   138|\n",
      "| 29| single|   133|\n",
      "| 32| single|   124|\n",
      "| 26| single|   121|\n",
      "| 34|married|   118|\n",
      "| 31| single|   111|\n",
      "| 27| single|   110|\n",
      "| 35|married|   101|\n",
      "| 36|married|   100|\n",
      "| 25| single|    99|\n",
      "| 37|married|    98|\n",
      "| 33|married|    97|\n",
      "| 33| single|    97|\n",
      "| 32|married|    87|\n",
      "| 39|married|    87|\n",
      "| 38|married|    86|\n",
      "| 35| single|    84|\n",
      "| 47|married|    83|\n",
      "| 46|married|    80|\n",
      "+---+-------+------+\n",
      "only showing top 20 rows\n",
      "\n"
     ]
    }
   ],
   "source": [
    "age_marital = spark.sql(\"select age, marital, count(*) as number from mytable where y='yes' group by age,marital order by number desc \").show()\n"
   ]
  },
  {
   "cell_type": "code",
   "execution_count": 129,
   "id": "ca20f210",
   "metadata": {
    "scrolled": false
   },
   "outputs": [
    {
     "data": {
      "image/png": "[encoded data removed]",
      "text/plain": [
       "<Figure size 640x480 with 1 Axes>"
      ]
     },
     "metadata": {},
     "output_type": "display_data"
    }
   ],
   "source": [
    "import pandas as pd\n",
    "import matplotlib.pyplot as plt\n",
    "\n",
    "age_series = data.select(\"age\").toPandas()[\"age\"]\n",
    "y_series = data.select(\"y\").toPandas()[\"y\"]\n",
    "\n",
    "plt.bar(age_series, y_series)\n",
    "plt.title(\"Scatter Plot\")\n",
    "plt.xlabel('y')\n",
    "plt.ylabel('age')\n",
    "plt.show()"
   ]
  },
  {
   "cell_type": "code",
   "execution_count": 130,
   "id": "905a5f3e",
   "metadata": {},
   "outputs": [
    {
     "name": "stdout",
     "output_type": "stream",
     "text": [
      "+------------------+\n",
      "|   average_balance|\n",
      "+------------------+\n",
      "|1362.2720576850766|\n",
      "+------------------+\n",
      "\n"
     ]
    }
   ],
   "source": [
    "spark.sql(\"SELECT AVG(balance) AS average_balance FROM mytable\").show()\n"
   ]
  },
  {
   "cell_type": "code",
   "execution_count": null,
   "id": "2432cfb9",
   "metadata": {},
   "outputs": [],
   "source": []
  }
 ],
 "metadata": {
  "kernelspec": {
   "display_name": "Python 3 (ipykernel)",
   "language": "python",
   "name": "python3"
  },
  "language_info": {
   "codemirror_mode": {
    "name": "ipython",
    "version": 3
   },
   "file_extension": ".py",
   "mimetype": "text/x-python",
   "name": "python",
   "nbconvert_exporter": "python",
   "pygments_lexer": "ipython3",
   "version": "3.11.1"
  }
 },
 "nbformat": 4,
 "nbformat_minor": 5
}
